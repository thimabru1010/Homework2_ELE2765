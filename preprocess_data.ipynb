{
 "cells": [
  {
   "cell_type": "code",
   "execution_count": 2,
   "metadata": {},
   "outputs": [],
   "source": [
    "import cv2\n",
    "import os\n",
    "from tqdm import tqdm\n",
    "import numpy as np"
   ]
  },
  {
   "cell_type": "code",
   "execution_count": 6,
   "metadata": {},
   "outputs": [
    {
     "name": "stderr",
     "output_type": "stream",
     "text": [
      "100%|██████████| 718/718 [00:02<00:00, 274.31it/s]\n",
      "100%|██████████| 180/180 [00:00<00:00, 225.51it/s]\n",
      "100%|██████████| 559/559 [00:02<00:00, 228.15it/s]\n",
      "100%|██████████| 140/140 [00:00<00:00, 207.74it/s]\n",
      "100%|██████████| 512/512 [00:02<00:00, 251.87it/s]\n",
      "100%|██████████| 129/129 [00:00<00:00, 230.40it/s]\n",
      "100%|██████████| 639/639 [00:03<00:00, 211.34it/s]\n",
      "100%|██████████| 160/160 [00:00<00:00, 248.45it/s]\n",
      "100%|██████████| 506/506 [00:01<00:00, 273.72it/s]\n",
      "100%|██████████| 127/127 [00:00<00:00, 229.02it/s]\n"
     ]
    }
   ],
   "source": [
    "dataset_path = \"Dataset/flower_photos/all\"\n",
    "\n",
    "labels = os.listdir(dataset_path)\n",
    "\n",
    "out_folder_train = 'Dataset/flower_photos/train'\n",
    "out_folder_val = 'Dataset/flower_photos/test'\n",
    "\n",
    "if not os.path.exists(out_folder_train):\n",
    "    os.makedirs(out_folder_train)\n",
    "    \n",
    "if not os.path.exists(out_folder_val):\n",
    "    os.makedirs(out_folder_val)\n",
    "    \n",
    "#Define split %\n",
    "\n",
    "split = 80\n",
    "\n",
    "def save_folder(images, out_folder, dataset_path, label):\n",
    "    for image in tqdm(images):\n",
    "        # Lembrando que todas as imagens possuem o formato labelxx.jpg\n",
    "        \n",
    "            \n",
    "        label_folder = os.path.join(out_folder, label)\n",
    "        # Pasta sempre criada\n",
    "        if not os.path.exists(label_folder):\n",
    "            os.makedirs(label_folder)\n",
    "\n",
    "        name_outpath = os.path.join(label_folder,image)\n",
    "        name_inpath = os.path.join(dataset_path,image)\n",
    "        #print(name_inpath)\n",
    "\n",
    "        img_np = cv2.imread(name_inpath)\n",
    "        cv2.imwrite(name_outpath, img_np)\n",
    "        del img_np\n",
    "    \n",
    "\n",
    "for label in labels:\n",
    "    label_path = os.path.join(dataset_path, label)\n",
    "    images = os.listdir(label_path)\n",
    "    train_images = images[:int(len(images)*split/100)]\n",
    "    val_images = images[int(len(images)*split/100):]\n",
    "    # Salva as imagens de cada label dentro de cada pasta\n",
    "    save_folder(train_images, out_folder_train, label_path, label)\n",
    "    save_folder(val_images, out_folder_val, label_path, label)\n",
    "    "
   ]
  },
  {
   "cell_type": "code",
   "execution_count": null,
   "metadata": {},
   "outputs": [],
   "source": []
  },
  {
   "cell_type": "code",
   "execution_count": null,
   "metadata": {},
   "outputs": [],
   "source": []
  }
 ],
 "metadata": {
  "kernelspec": {
   "display_name": "Python 3",
   "language": "python",
   "name": "python3"
  },
  "language_info": {
   "codemirror_mode": {
    "name": "ipython",
    "version": 3
   },
   "file_extension": ".py",
   "mimetype": "text/x-python",
   "name": "python",
   "nbconvert_exporter": "python",
   "pygments_lexer": "ipython3",
   "version": "3.6.9"
  }
 },
 "nbformat": 4,
 "nbformat_minor": 4
}
