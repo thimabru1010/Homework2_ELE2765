{
 "cells": [
  {
   "cell_type": "code",
   "execution_count": 3,
   "metadata": {
    "colab": {},
    "colab_type": "code",
    "id": "4v-XcnUpR1Ex"
   },
   "outputs": [],
   "source": [
    "from keras.datasets import cifar10\n",
    "from keras.layers import Input, Dense, Conv2D, MaxPool2D, Flatten, Dropout\n",
    "from keras.optimizers import SGD, Adam\n",
    "from keras.models import Model, load_model\n",
    "from keras.callbacks import ModelCheckpoint, EarlyStopping\n",
    "from keras.preprocessing.image import ImageDataGenerator\n",
    "from keras import applications\n",
    "from keras import backend as k\n",
    "import keras\n",
    "import numpy as np\n",
    "from sklearn.utils import shuffle\n",
    "from IPython.display import clear_output\n",
    "import matplotlib.pyplot as plt"
   ]
  },
  {
   "cell_type": "markdown",
   "metadata": {
    "colab_type": "text",
    "id": "jyqYW1rftjGm"
   },
   "source": [
    "\n",
    "# Exercise 1: Transfer Learning with VGG16\n",
    "---\n",
    "Loading pre-trained weights"
   ]
  },
  {
   "cell_type": "code",
   "execution_count": 4,
   "metadata": {
    "colab": {},
    "colab_type": "code",
    "id": "4et6S4z9TCr0"
   },
   "outputs": [],
   "source": [
    "def vgg16_top():\n",
    "    # This will load the whole VGG16 network, including the top Dense layers.\n",
    "    # Note: inlcude the top Dense layer, input tensor shape is forced to be (224, 224, 3)\n",
    "    vgg_model_top = applications.VGG16(weights='imagenet', include_top=True)\n",
    "    vgg_model_top.summary()\n",
    "    return vgg_model_top\n"
   ]
  },
  {
   "cell_type": "code",
   "execution_count": 5,
   "metadata": {
    "colab": {
     "base_uri": "https://localhost:8080/",
     "height": 1000
    },
    "colab_type": "code",
    "executionInfo": {
     "elapsed": 3476,
     "status": "ok",
     "timestamp": 1586961669036,
     "user": {
      "displayName": "Laura Elena Cué La Roza",
      "photoUrl": "https://lh3.googleusercontent.com/a-/AOh14GiNvzljitaWtyw_5xmeSz5mi7Lr8cfwx--AbC55=s64",
      "userId": "14703712081987149694"
     },
     "user_tz": 180
    },
    "id": "HozPA_Msxpfz",
    "outputId": "f0f80d5e-5e23-45d7-91f2-d594106e33e9"
   },
   "outputs": [
    {
     "name": "stdout",
     "output_type": "stream",
     "text": [
      "Downloading data from https://github.com/fchollet/deep-learning-models/releases/download/v0.1/vgg16_weights_tf_dim_ordering_tf_kernels.h5\n",
      "553467904/553467096 [==============================] - 86s 0us/step\n",
      "Model: \"vgg16\"\n",
      "_________________________________________________________________\n",
      "Layer (type)                 Output Shape              Param #   \n",
      "=================================================================\n",
      "input_1 (InputLayer)         (None, 224, 224, 3)       0         \n",
      "_________________________________________________________________\n",
      "block1_conv1 (Conv2D)        (None, 224, 224, 64)      1792      \n",
      "_________________________________________________________________\n",
      "block1_conv2 (Conv2D)        (None, 224, 224, 64)      36928     \n",
      "_________________________________________________________________\n",
      "block1_pool (MaxPooling2D)   (None, 112, 112, 64)      0         \n",
      "_________________________________________________________________\n",
      "block2_conv1 (Conv2D)        (None, 112, 112, 128)     73856     \n",
      "_________________________________________________________________\n",
      "block2_conv2 (Conv2D)        (None, 112, 112, 128)     147584    \n",
      "_________________________________________________________________\n",
      "block2_pool (MaxPooling2D)   (None, 56, 56, 128)       0         \n",
      "_________________________________________________________________\n",
      "block3_conv1 (Conv2D)        (None, 56, 56, 256)       295168    \n",
      "_________________________________________________________________\n",
      "block3_conv2 (Conv2D)        (None, 56, 56, 256)       590080    \n",
      "_________________________________________________________________\n",
      "block3_conv3 (Conv2D)        (None, 56, 56, 256)       590080    \n",
      "_________________________________________________________________\n",
      "block3_pool (MaxPooling2D)   (None, 28, 28, 256)       0         \n",
      "_________________________________________________________________\n",
      "block4_conv1 (Conv2D)        (None, 28, 28, 512)       1180160   \n",
      "_________________________________________________________________\n",
      "block4_conv2 (Conv2D)        (None, 28, 28, 512)       2359808   \n",
      "_________________________________________________________________\n",
      "block4_conv3 (Conv2D)        (None, 28, 28, 512)       2359808   \n",
      "_________________________________________________________________\n",
      "block4_pool (MaxPooling2D)   (None, 14, 14, 512)       0         \n",
      "_________________________________________________________________\n",
      "block5_conv1 (Conv2D)        (None, 14, 14, 512)       2359808   \n",
      "_________________________________________________________________\n",
      "block5_conv2 (Conv2D)        (None, 14, 14, 512)       2359808   \n",
      "_________________________________________________________________\n",
      "block5_conv3 (Conv2D)        (None, 14, 14, 512)       2359808   \n",
      "_________________________________________________________________\n",
      "block5_pool (MaxPooling2D)   (None, 7, 7, 512)         0         \n",
      "_________________________________________________________________\n",
      "flatten (Flatten)            (None, 25088)             0         \n",
      "_________________________________________________________________\n",
      "fc1 (Dense)                  (None, 4096)              102764544 \n",
      "_________________________________________________________________\n",
      "fc2 (Dense)                  (None, 4096)              16781312  \n",
      "_________________________________________________________________\n",
      "predictions (Dense)          (None, 1000)              4097000   \n",
      "=================================================================\n",
      "Total params: 138,357,544\n",
      "Trainable params: 138,357,544\n",
      "Non-trainable params: 0\n",
      "_________________________________________________________________\n"
     ]
    },
    {
     "data": {
      "text/plain": [
       "<keras.engine.training.Model at 0x7fc51c3c3eb8>"
      ]
     },
     "execution_count": 5,
     "metadata": {},
     "output_type": "execute_result"
    }
   ],
   "source": [
    "vgg16_top()"
   ]
  },
  {
   "cell_type": "code",
   "execution_count": 6,
   "metadata": {
    "colab": {},
    "colab_type": "code",
    "id": "71wRm3tM6_TV"
   },
   "outputs": [],
   "source": [
    "def vgg16_conv():\n",
    "    # Not loaded the last two fully connected layers which act as the classifier. \n",
    "    # We are just loading the convolutional layers. Note: not specifying the shape of top layers, \n",
    "    # the input tensor shape is (None, None, 3),so you can use them for any size of images.\n",
    "    # Specify input tensor,\n",
    "    input_tensor = Input(shape=(32, 32, 3))\n",
    "    vgg_model_conv = applications.VGG16(weights='imagenet',\n",
    "                                      include_top=False,\n",
    "                                      input_tensor=input_tensor)\n",
    "\n",
    "\n",
    "    return vgg_model_conv\n"
   ]
  },
  {
   "cell_type": "code",
   "execution_count": 7,
   "metadata": {
    "colab": {
     "base_uri": "https://localhost:8080/",
     "height": 879
    },
    "colab_type": "code",
    "executionInfo": {
     "elapsed": 1084,
     "status": "ok",
     "timestamp": 1586961678582,
     "user": {
      "displayName": "Laura Elena Cué La Roza",
      "photoUrl": "https://lh3.googleusercontent.com/a-/AOh14GiNvzljitaWtyw_5xmeSz5mi7Lr8cfwx--AbC55=s64",
      "userId": "14703712081987149694"
     },
     "user_tz": 180
    },
    "id": "8kTeOusxxv1v",
    "outputId": "59fe50c8-07fa-4790-9167-a0f5b3caae88"
   },
   "outputs": [
    {
     "name": "stdout",
     "output_type": "stream",
     "text": [
      "Downloading data from https://github.com/fchollet/deep-learning-models/releases/download/v0.1/vgg16_weights_tf_dim_ordering_tf_kernels_notop.h5\n",
      "58892288/58889256 [==============================] - 7s 0us/step\n",
      "Model: \"vgg16\"\n",
      "_________________________________________________________________\n",
      "Layer (type)                 Output Shape              Param #   \n",
      "=================================================================\n",
      "input_2 (InputLayer)         (None, 32, 32, 3)         0         \n",
      "_________________________________________________________________\n",
      "block1_conv1 (Conv2D)        (None, 32, 32, 64)        1792      \n",
      "_________________________________________________________________\n",
      "block1_conv2 (Conv2D)        (None, 32, 32, 64)        36928     \n",
      "_________________________________________________________________\n",
      "block1_pool (MaxPooling2D)   (None, 16, 16, 64)        0         \n",
      "_________________________________________________________________\n",
      "block2_conv1 (Conv2D)        (None, 16, 16, 128)       73856     \n",
      "_________________________________________________________________\n",
      "block2_conv2 (Conv2D)        (None, 16, 16, 128)       147584    \n",
      "_________________________________________________________________\n",
      "block2_pool (MaxPooling2D)   (None, 8, 8, 128)         0         \n",
      "_________________________________________________________________\n",
      "block3_conv1 (Conv2D)        (None, 8, 8, 256)         295168    \n",
      "_________________________________________________________________\n",
      "block3_conv2 (Conv2D)        (None, 8, 8, 256)         590080    \n",
      "_________________________________________________________________\n",
      "block3_conv3 (Conv2D)        (None, 8, 8, 256)         590080    \n",
      "_________________________________________________________________\n",
      "block3_pool (MaxPooling2D)   (None, 4, 4, 256)         0         \n",
      "_________________________________________________________________\n",
      "block4_conv1 (Conv2D)        (None, 4, 4, 512)         1180160   \n",
      "_________________________________________________________________\n",
      "block4_conv2 (Conv2D)        (None, 4, 4, 512)         2359808   \n",
      "_________________________________________________________________\n",
      "block4_conv3 (Conv2D)        (None, 4, 4, 512)         2359808   \n",
      "_________________________________________________________________\n",
      "block4_pool (MaxPooling2D)   (None, 2, 2, 512)         0         \n",
      "_________________________________________________________________\n",
      "block5_conv1 (Conv2D)        (None, 2, 2, 512)         2359808   \n",
      "_________________________________________________________________\n",
      "block5_conv2 (Conv2D)        (None, 2, 2, 512)         2359808   \n",
      "_________________________________________________________________\n",
      "block5_conv3 (Conv2D)        (None, 2, 2, 512)         2359808   \n",
      "_________________________________________________________________\n",
      "block5_pool (MaxPooling2D)   (None, 1, 1, 512)         0         \n",
      "=================================================================\n",
      "Total params: 14,714,688\n",
      "Trainable params: 14,714,688\n",
      "Non-trainable params: 0\n",
      "_________________________________________________________________\n"
     ]
    }
   ],
   "source": [
    "net = vgg16_conv()\n",
    "net.summary()"
   ]
  },
  {
   "cell_type": "markdown",
   "metadata": {
    "colab_type": "text",
    "id": "AboOJnZhcPgW"
   },
   "source": [
    "---\n",
    "Create a new network with bottom layers taken from VGG"
   ]
  },
  {
   "cell_type": "code",
   "execution_count": 9,
   "metadata": {
    "colab": {},
    "colab_type": "code",
    "id": "gu6OZABEcLAt"
   },
   "outputs": [],
   "source": [
    "def create_custom_model(net,optm,lay_name,lay_nb):\n",
    "\n",
    "    # Creating dictionary that maps layer names to the layers\n",
    "    layer_dict = dict([(layer.name, layer) for layer in net.layers])\n",
    "\n",
    "    # Getting output tensor of the last VGG layer that we want to include\n",
    "    x = layer_dict[lay_name].output\n",
    "\n",
    "    # add extra convolutions if you like\n",
    "\n",
    "    # flatten + fully-connected + softmax activation\n",
    "    x = Flatten()(x)\n",
    "    x = Dense(64, activation='relu')(x)\n",
    "    x = Dropout(0.5)(x)\n",
    "    x = Dense(10, activation='softmax')(x)\n",
    "\n",
    "    custom_model = Model(net.input,x)\n",
    "\n",
    "    # Froze layers\n",
    "    for layer in custom_model.layers[:lay_nb]:\n",
    "        layer.trainable = False\n",
    "\n",
    "    # Compile it\n",
    "    custom_model.compile(loss='categorical_crossentropy',\n",
    "                       optimizer=optm,\n",
    "                       metrics=['accuracy'])\n",
    "\n",
    "    return custom_model"
   ]
  },
  {
   "cell_type": "markdown",
   "metadata": {
    "colab_type": "text",
    "id": "TCpPV2Z6cz-W"
   },
   "source": [
    "---\n",
    "Train network and get train history functions"
   ]
  },
  {
   "cell_type": "code",
   "execution_count": 10,
   "metadata": {
    "colab": {},
    "colab_type": "code",
    "id": "PsUXDHdZjM7b"
   },
   "outputs": [],
   "source": [
    "def show_result(acc, val_acc, loss, val_loss):\n",
    "    plt.rcParams['axes.facecolor']='white'\n",
    "    f, axarr = plt.subplots(1 , 2)\n",
    "    f.set_figwidth(10)\n",
    "\n",
    "    # Accuracy\n",
    "    axarr[0].plot(acc)\n",
    "    axarr[0].plot(val_acc)\n",
    "    axarr[0].set_title('model accuracy')\n",
    "    axarr[0].set_ylabel('accuracy')\n",
    "    axarr[0].set_xlabel('epoch')\n",
    "    axarr[0].legend(['train', 'valid'], loc='upper left')\n",
    "\n",
    "    # Loss\n",
    "    axarr[1].plot(loss)\n",
    "    axarr[1].plot(val_loss)\n",
    "    axarr[1].set_title('model loss')\n",
    "    axarr[1].set_ylabel('loss')\n",
    "    axarr[1].set_xlabel('epoch')\n",
    "    axarr[1].legend(['train', 'valid'], loc='upper left')\n",
    "    \n",
    "    plt.show()"
   ]
  },
  {
   "cell_type": "code",
   "execution_count": 0,
   "metadata": {
    "colab": {},
    "colab_type": "code",
    "id": "bx7FT1H4XZ2j"
   },
   "outputs": [],
   "source": [
    "def Train(net, x_train, y_train_h, x_test, y_test_h, batch_size, epochs,data_augmentation = False): \n",
    "\n",
    "    print('Start training')\n",
    "    # define file name to save the model\n",
    "    file_name = 'best_model.h5'\n",
    "    # create checkpoint callbacks to save best model for the validation set\n",
    "    checkpointer = ModelCheckpoint(file_name, monitor='val_accuracy', verbose=2, save_best_only=True)\n",
    "    # create early stopp callbacks to stop training after not imporvment\n",
    "    early_stop = EarlyStopping(monitor = 'val_accuracy', min_delta = 0.001, \n",
    "                               mode = 'max', patience = 5)\n",
    "    \n",
    "    if data_augmentation :\n",
    "      print(\"-------------Using Data augmentation------------\")\n",
    "      # This will do realtime data augmentation:\n",
    "      datagen = ImageDataGenerator(\n",
    "          fill_mode = \"nearest\",\n",
    "          zoom_range = 0.1,\n",
    "          rotation_range=30,                    \n",
    "          width_shift_range=0.1,               \n",
    "          height_shift_range=0.1,              \n",
    "          horizontal_flip=True,                \n",
    "          vertical_flip=True)                 \n",
    "\n",
    "      datagen.fit(x_train)\n",
    "      history = net.fit_generator(datagen.flow(x_train, y_train_h, batch_size=batch_size),\n",
    "                          steps_per_epoch=x_train.shape[0]//batch_size,\n",
    "                          epochs=epochs,\n",
    "                          verbose=1,\n",
    "                          validation_data=[x_test,y_test_h],\n",
    "                          callbacks=[early_stop,checkpointer])\n",
    "\n",
    "    else :\n",
    "      print(\"-----Not Using Data augmentation---------------\")\n",
    "      history = net.fit(x_train, y_train_h,\n",
    "                    batch_size=batch_size,\n",
    "                    epochs=epochs,\n",
    "                    verbose=1,\n",
    "                    validation_data = [x_test,y_test_h],\n",
    "                    callbacks=[early_stop,checkpointer])\n",
    "\n",
    "      \n",
    "    show_result(history.history['accuracy'], \n",
    "                history.history['val_accuracy'],\n",
    "                history.history['loss'],\n",
    "                history.history['val_loss'])\n",
    "\n",
    "    del net\n",
    "    net = load_model(file_name)\n",
    "    \n",
    "    loss_ts = net.evaluate(x_test, y_test_h, verbose=1)\n",
    "   \n",
    "    print(\"[Test loss: %f , Test acc.:%.2f%%]\" %(loss_ts[0] , 100 * loss_ts[1])) \n",
    "    "
   ]
  },
  {
   "cell_type": "markdown",
   "metadata": {
    "colab_type": "text",
    "id": "z9nazaamThXt"
   },
   "source": [
    "---\n",
    "Load data, define parameters and train the network"
   ]
  },
  {
   "cell_type": "code",
   "execution_count": 49,
   "metadata": {
    "colab": {
     "base_uri": "https://localhost:8080/",
     "height": 879
    },
    "colab_type": "code",
    "executionInfo": {
     "elapsed": 1348,
     "status": "ok",
     "timestamp": 1586961784611,
     "user": {
      "displayName": "Laura Elena Cué La Roza",
      "photoUrl": "https://lh3.googleusercontent.com/a-/AOh14GiNvzljitaWtyw_5xmeSz5mi7Lr8cfwx--AbC55=s64",
      "userId": "14703712081987149694"
     },
     "user_tz": 180
    },
    "id": "52Rf32y1V3d-",
    "outputId": "25a0fc6c-89fc-49cb-bd89-ccefdc17caa8"
   },
   "outputs": [
    {
     "name": "stdout",
     "output_type": "stream",
     "text": [
      "Model: \"model_5\"\n",
      "_________________________________________________________________\n",
      "Layer (type)                 Output Shape              Param #   \n",
      "=================================================================\n",
      "input_13 (InputLayer)        (None, 32, 32, 3)         0         \n",
      "_________________________________________________________________\n",
      "block1_conv1 (Conv2D)        (None, 32, 32, 64)        1792      \n",
      "_________________________________________________________________\n",
      "block1_conv2 (Conv2D)        (None, 32, 32, 64)        36928     \n",
      "_________________________________________________________________\n",
      "block1_pool (MaxPooling2D)   (None, 16, 16, 64)        0         \n",
      "_________________________________________________________________\n",
      "block2_conv1 (Conv2D)        (None, 16, 16, 128)       73856     \n",
      "_________________________________________________________________\n",
      "block2_conv2 (Conv2D)        (None, 16, 16, 128)       147584    \n",
      "_________________________________________________________________\n",
      "block2_pool (MaxPooling2D)   (None, 8, 8, 128)         0         \n",
      "_________________________________________________________________\n",
      "block3_conv1 (Conv2D)        (None, 8, 8, 256)         295168    \n",
      "_________________________________________________________________\n",
      "block3_conv2 (Conv2D)        (None, 8, 8, 256)         590080    \n",
      "_________________________________________________________________\n",
      "block3_conv3 (Conv2D)        (None, 8, 8, 256)         590080    \n",
      "_________________________________________________________________\n",
      "block3_pool (MaxPooling2D)   (None, 4, 4, 256)         0         \n",
      "_________________________________________________________________\n",
      "block4_conv1 (Conv2D)        (None, 4, 4, 512)         1180160   \n",
      "_________________________________________________________________\n",
      "block4_conv2 (Conv2D)        (None, 4, 4, 512)         2359808   \n",
      "_________________________________________________________________\n",
      "block4_conv3 (Conv2D)        (None, 4, 4, 512)         2359808   \n",
      "_________________________________________________________________\n",
      "block4_pool (MaxPooling2D)   (None, 2, 2, 512)         0         \n",
      "_________________________________________________________________\n",
      "flatten_5 (Flatten)          (None, 2048)              0         \n",
      "_________________________________________________________________\n",
      "dense_9 (Dense)              (None, 64)                131136    \n",
      "_________________________________________________________________\n",
      "dropout_5 (Dropout)          (None, 64)                0         \n",
      "_________________________________________________________________\n",
      "dense_10 (Dense)             (None, 10)                650       \n",
      "=================================================================\n",
      "Total params: 7,767,050\n",
      "Trainable params: 131,786\n",
      "Non-trainable params: 7,635,264\n",
      "_________________________________________________________________\n"
     ]
    }
   ],
   "source": [
    "if __name__=='__main__':\n",
    "  \n",
    "  #Loading the data set\n",
    "  (x_train , y_train) , (x_test , y_test) = cifar10.load_data()\n",
    "  \n",
    "  #Normalizing the set\n",
    "  x_train = x_train.astype('float32')/255.\n",
    "  x_test = x_test.astype('float32')/255.\n",
    "\n",
    "  #Performing hot encoding\n",
    "  y_train_h = keras.utils.to_categorical(y_train , 10)\n",
    "  y_test_h = keras.utils.to_categorical(y_test , 10)\n",
    "  \n",
    "  # Change here\n",
    "  lr = 1e-3\n",
    "  batch_size = 128\n",
    "  epochs = 30\n",
    "  opt = Adam(lr = lr)\n",
    "  lay_name = 'block4_pool'\n",
    "  lay_nb = 14\n",
    "  \n",
    "  # Define VGG16 with pretained weights\n",
    "  net = vgg16_conv()\n",
    "  \n",
    "  # create custom model \n",
    "  custom_model = create_custom_model(net,opt,lay_name,lay_nb)\n",
    "  custom_model.summary()\n"
   ]
  },
  {
   "cell_type": "code",
   "execution_count": 50,
   "metadata": {
    "colab": {
     "base_uri": "https://localhost:8080/",
     "height": 1000
    },
    "colab_type": "code",
    "executionInfo": {
     "elapsed": 183167,
     "status": "ok",
     "timestamp": 1586961975601,
     "user": {
      "displayName": "Laura Elena Cué La Roza",
      "photoUrl": "https://lh3.googleusercontent.com/a-/AOh14GiNvzljitaWtyw_5xmeSz5mi7Lr8cfwx--AbC55=s64",
      "userId": "14703712081987149694"
     },
     "user_tz": 180
    },
    "id": "eapAWJEnSO_S",
    "outputId": "260c6fa9-7fca-4d17-89d7-5367919330f2"
   },
   "outputs": [
    {
     "name": "stdout",
     "output_type": "stream",
     "text": [
      "Start training\n",
      "-----Not Using Data augmentation---------------\n",
      "Train on 50000 samples, validate on 10000 samples\n",
      "Epoch 1/30\n",
      "50000/50000 [==============================] - 6s 121us/step - loss: 1.9988 - accuracy: 0.2691 - val_loss: 1.3806 - val_accuracy: 0.5195\n",
      "\n",
      "Epoch 00001: val_accuracy improved from -inf to 0.51950, saving model to best_model.h5\n",
      "Epoch 2/30\n",
      "50000/50000 [==============================] - 6s 118us/step - loss: 1.6132 - accuracy: 0.3936 - val_loss: 1.1693 - val_accuracy: 0.5921\n",
      "\n",
      "Epoch 00002: val_accuracy improved from 0.51950 to 0.59210, saving model to best_model.h5\n",
      "Epoch 3/30\n",
      "50000/50000 [==============================] - 6s 117us/step - loss: 1.4875 - accuracy: 0.4353 - val_loss: 1.1666 - val_accuracy: 0.6122\n",
      "\n",
      "Epoch 00003: val_accuracy improved from 0.59210 to 0.61220, saving model to best_model.h5\n",
      "Epoch 4/30\n",
      "50000/50000 [==============================] - 6s 117us/step - loss: 1.4392 - accuracy: 0.4564 - val_loss: 1.0943 - val_accuracy: 0.6330\n",
      "\n",
      "Epoch 00004: val_accuracy improved from 0.61220 to 0.63300, saving model to best_model.h5\n",
      "Epoch 5/30\n",
      "50000/50000 [==============================] - 6s 118us/step - loss: 1.4114 - accuracy: 0.4717 - val_loss: 1.0646 - val_accuracy: 0.6331\n",
      "\n",
      "Epoch 00005: val_accuracy improved from 0.63300 to 0.63310, saving model to best_model.h5\n",
      "Epoch 6/30\n",
      "50000/50000 [==============================] - 6s 117us/step - loss: 1.3872 - accuracy: 0.4779 - val_loss: 1.0705 - val_accuracy: 0.6577\n",
      "\n",
      "Epoch 00006: val_accuracy improved from 0.63310 to 0.65770, saving model to best_model.h5\n",
      "Epoch 7/30\n",
      "50000/50000 [==============================] - 6s 117us/step - loss: 1.3724 - accuracy: 0.4845 - val_loss: 1.0330 - val_accuracy: 0.6601\n",
      "\n",
      "Epoch 00007: val_accuracy improved from 0.65770 to 0.66010, saving model to best_model.h5\n",
      "Epoch 8/30\n",
      "50000/50000 [==============================] - 6s 117us/step - loss: 1.3608 - accuracy: 0.4849 - val_loss: 1.0400 - val_accuracy: 0.6605\n",
      "\n",
      "Epoch 00008: val_accuracy improved from 0.66010 to 0.66050, saving model to best_model.h5\n",
      "Epoch 9/30\n",
      "50000/50000 [==============================] - 6s 118us/step - loss: 1.3491 - accuracy: 0.4891 - val_loss: 1.0382 - val_accuracy: 0.6654\n",
      "\n",
      "Epoch 00009: val_accuracy improved from 0.66050 to 0.66540, saving model to best_model.h5\n",
      "Epoch 10/30\n",
      "50000/50000 [==============================] - 6s 118us/step - loss: 1.3347 - accuracy: 0.4953 - val_loss: 1.0292 - val_accuracy: 0.6708\n",
      "\n",
      "Epoch 00010: val_accuracy improved from 0.66540 to 0.67080, saving model to best_model.h5\n",
      "Epoch 11/30\n",
      "50000/50000 [==============================] - 6s 118us/step - loss: 1.3330 - accuracy: 0.4951 - val_loss: 1.0108 - val_accuracy: 0.6775\n",
      "\n",
      "Epoch 00011: val_accuracy improved from 0.67080 to 0.67750, saving model to best_model.h5\n",
      "Epoch 12/30\n",
      "50000/50000 [==============================] - 6s 118us/step - loss: 1.3175 - accuracy: 0.5011 - val_loss: 0.9914 - val_accuracy: 0.6778\n",
      "\n",
      "Epoch 00012: val_accuracy improved from 0.67750 to 0.67780, saving model to best_model.h5\n",
      "Epoch 13/30\n",
      "50000/50000 [==============================] - 6s 118us/step - loss: 1.3108 - accuracy: 0.5018 - val_loss: 1.0009 - val_accuracy: 0.6738\n",
      "\n",
      "Epoch 00013: val_accuracy did not improve from 0.67780\n",
      "Epoch 14/30\n",
      "50000/50000 [==============================] - 6s 118us/step - loss: 1.3091 - accuracy: 0.5036 - val_loss: 0.9675 - val_accuracy: 0.6835\n",
      "\n",
      "Epoch 00014: val_accuracy improved from 0.67780 to 0.68350, saving model to best_model.h5\n",
      "Epoch 15/30\n",
      "50000/50000 [==============================] - 6s 118us/step - loss: 1.3040 - accuracy: 0.5083 - val_loss: 0.9832 - val_accuracy: 0.6817\n",
      "\n",
      "Epoch 00015: val_accuracy did not improve from 0.68350\n",
      "Epoch 16/30\n",
      "50000/50000 [==============================] - 6s 118us/step - loss: 1.2949 - accuracy: 0.5113 - val_loss: 0.9979 - val_accuracy: 0.6750\n",
      "\n",
      "Epoch 00016: val_accuracy did not improve from 0.68350\n",
      "Epoch 17/30\n",
      "50000/50000 [==============================] - 6s 118us/step - loss: 1.2856 - accuracy: 0.5158 - val_loss: 0.9541 - val_accuracy: 0.6896\n",
      "\n",
      "Epoch 00017: val_accuracy improved from 0.68350 to 0.68960, saving model to best_model.h5\n",
      "Epoch 18/30\n",
      "50000/50000 [==============================] - 6s 117us/step - loss: 1.2888 - accuracy: 0.5118 - val_loss: 0.9583 - val_accuracy: 0.6887\n",
      "\n",
      "Epoch 00018: val_accuracy did not improve from 0.68960\n",
      "Epoch 19/30\n",
      "50000/50000 [==============================] - 6s 117us/step - loss: 1.2832 - accuracy: 0.5139 - val_loss: 0.9808 - val_accuracy: 0.6751\n",
      "\n",
      "Epoch 00019: val_accuracy did not improve from 0.68960\n",
      "Epoch 20/30\n",
      "50000/50000 [==============================] - 6s 116us/step - loss: 1.2738 - accuracy: 0.5217 - val_loss: 0.9748 - val_accuracy: 0.6893\n",
      "\n",
      "Epoch 00020: val_accuracy did not improve from 0.68960\n",
      "Epoch 21/30\n",
      "50000/50000 [==============================] - 6s 117us/step - loss: 1.2726 - accuracy: 0.5181 - val_loss: 0.9770 - val_accuracy: 0.6769\n",
      "\n",
      "Epoch 00021: val_accuracy did not improve from 0.68960\n",
      "Epoch 22/30\n",
      "50000/50000 [==============================] - 6s 118us/step - loss: 1.2718 - accuracy: 0.5197 - val_loss: 0.9521 - val_accuracy: 0.6912\n",
      "\n",
      "Epoch 00022: val_accuracy improved from 0.68960 to 0.69120, saving model to best_model.h5\n",
      "Epoch 23/30\n",
      "50000/50000 [==============================] - 6s 118us/step - loss: 1.2684 - accuracy: 0.5169 - val_loss: 0.9951 - val_accuracy: 0.6818\n",
      "\n",
      "Epoch 00023: val_accuracy did not improve from 0.69120\n",
      "Epoch 24/30\n",
      "50000/50000 [==============================] - 6s 117us/step - loss: 1.2628 - accuracy: 0.5214 - val_loss: 1.0218 - val_accuracy: 0.6541\n",
      "\n",
      "Epoch 00024: val_accuracy did not improve from 0.69120\n",
      "Epoch 25/30\n",
      "50000/50000 [==============================] - 6s 119us/step - loss: 1.2622 - accuracy: 0.5210 - val_loss: 0.9570 - val_accuracy: 0.6876\n",
      "\n",
      "Epoch 00025: val_accuracy did not improve from 0.69120\n",
      "Epoch 26/30\n",
      "50000/50000 [==============================] - 6s 117us/step - loss: 1.2567 - accuracy: 0.5238 - val_loss: 0.9470 - val_accuracy: 0.6795\n",
      "\n",
      "Epoch 00026: val_accuracy did not improve from 0.69120\n",
      "Epoch 27/30\n",
      "50000/50000 [==============================] - 6s 116us/step - loss: 1.2519 - accuracy: 0.5244 - val_loss: 0.9499 - val_accuracy: 0.6934\n",
      "\n",
      "Epoch 00027: val_accuracy improved from 0.69120 to 0.69340, saving model to best_model.h5\n",
      "Epoch 28/30\n",
      "50000/50000 [==============================] - 6s 118us/step - loss: 1.2491 - accuracy: 0.5234 - val_loss: 0.9666 - val_accuracy: 0.6875\n",
      "\n",
      "Epoch 00028: val_accuracy did not improve from 0.69340\n",
      "Epoch 29/30\n",
      "50000/50000 [==============================] - 6s 121us/step - loss: 1.2515 - accuracy: 0.5236 - val_loss: 0.9498 - val_accuracy: 0.6914\n",
      "\n",
      "Epoch 00029: val_accuracy did not improve from 0.69340\n",
      "Epoch 30/30\n",
      "50000/50000 [==============================] - 6s 121us/step - loss: 1.2511 - accuracy: 0.5239 - val_loss: 0.9542 - val_accuracy: 0.6935\n",
      "\n",
      "Epoch 00030: val_accuracy improved from 0.69340 to 0.69350, saving model to best_model.h5\n"
     ]
    },
    {
     "data": {
      "image/png": "[encoded data removed]",
      "text/plain": [
       "<Figure size 720x288 with 2 Axes>"
      ]
     },
     "metadata": {
      "needs_background": "light",
      "tags": []
     },
     "output_type": "display_data"
    },
    {
     "name": "stdout",
     "output_type": "stream",
     "text": [
      "10000/10000 [==============================] - 2s 197us/step\n",
      "[Test loss: 0.954243 , Test acc.:69.35%]\n"
     ]
    }
   ],
   "source": [
    "  # tarin network\n",
    "  Train(custom_model, x_train, y_train_h, x_test, y_test_h, batch_size, epochs)"
   ]
  },
  {
   "cell_type": "markdown",
   "metadata": {
    "colab_type": "text",
    "id": "UJ2UaT05uE6i"
   },
   "source": [
    "\n",
    "---\n",
    "Observe the network performance for different configurations:\n",
    "1. Use pre-trained bottom layers of VGG up to layer name (VGG_LN)\n",
    "2. Extra convolution layers (EC)\n",
    "3. Data Augmentation (DA)\n",
    "4. Early stop patience (ESP)\n",
    "\n",
    "Experiments || VGG_LN || DA || ESP || EC ||\n",
    "--- || --- || --- || --- || --- ||\n",
    "Default ||  **'block4_pool'**  ||  **False**   ||  **5**   || **False** ||\n",
    "Conf_1 ||  -  ||   -   ||  -  ||  -  ||  \n",
    "Conf_2 ||  -  ||   -   ||  -  ||  -  ||   \n",
    "Conf_3 ||  -  ||   -   ||  -  ||  -  || \n",
    "Conf_4 ||  -  ||   -   ||  -  ||  -  ||     \n",
    "      \n"
   ]
  }
 ],
 "metadata": {
  "accelerator": "GPU",
  "colab": {
   "collapsed_sections": [],
   "name": "Transfer_Learning.ipynb",
   "provenance": []
  },
  "kernelspec": {
   "display_name": "Python 3",
   "language": "python",
   "name": "python3"
  },
  "language_info": {
   "codemirror_mode": {
    "name": "ipython",
    "version": 3
   },
   "file_extension": ".py",
   "mimetype": "text/x-python",
   "name": "python",
   "nbconvert_exporter": "python",
   "pygments_lexer": "ipython3",
   "version": "3.6.9"
  }
 },
 "nbformat": 4,
 "nbformat_minor": 1
}
